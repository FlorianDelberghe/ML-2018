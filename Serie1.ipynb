{
 "cells": [
  {
   "cell_type": "markdown",
   "metadata": {},
   "source": [
    "# Exercise A \n",
    "**Matrix Standardisation** "
   ]
  },
  {
   "cell_type": "code",
   "execution_count": 99,
   "metadata": {},
   "outputs": [],
   "source": [
    "import numpy as np"
   ]
  },
  {
   "cell_type": "code",
   "execution_count": 139,
   "metadata": {},
   "outputs": [],
   "source": [
    "def stand(mat):\n",
    "    i = 0\n",
    "    for i in range(mat.shape[1]):\n",
    "        mat[:, i] -= np.mean(mat[:,i])\n",
    "        mat[:, i] /= np.std(mat[:, i])\n",
    "  \n",
    "    return mat\n"
   ]
  },
  {
   "cell_type": "code",
   "execution_count": 186,
   "metadata": {
    "scrolled": false
   },
   "outputs": [
    {
     "name": "stdout",
     "output_type": "stream",
     "text": [
      "#rows: 3\n",
      "#columns3\n",
      "Original random Matrix: \n",
      " [[0.782604   0.04804522 0.5756934 ]\n",
      " [0.38889132 0.00496745 0.02076575]\n",
      " [0.77641337 0.68165293 0.26199446]] \n",
      " \n",
      "\n",
      "Standardized and reduced dimensions Matrix: \n",
      " [[ 0.72384831 -0.63633448  1.27444223]\n",
      " [-1.41408038 -0.77559179 -1.16811447]\n",
      " [ 0.69023206  1.41192627 -0.10632775]] \n",
      "\n",
      "Means\n",
      "# 1 1.8503717077085943e-16\n",
      "# 2 7.401486830834377e-17\n",
      "# 3 -6.013708050052931e-17\n",
      "SD\n",
      "# 1 1.0\n",
      "# 2 1.0\n",
      "# 3 1.0\n"
     ]
    }
   ],
   "source": [
    "nr = int(input(\"#rows: \"))\n",
    "nc = int(input(\"#columns\"))\n",
    "\n",
    "r = np.random.rand(nr,nc)\n",
    "\n",
    "print(\"Original random Matrix: \\n\", r, \"\\n \\n\")\n",
    "\n",
    "standr = stand(r)\n",
    "\n",
    "print(\"Standardized and reduced dimensions Matrix: \\n\", standr, \"\\n\")\n",
    "\n",
    "print(\"Means\")\n",
    "for i in range(standr.shape[1]):\n",
    "    print(\"#\", i+1, np.mean(standr[:,i]))\n",
    "\n",
    "print(\"SD\")\n",
    "for i in range(standr.shape[1]):\n",
    "    print(\"#\", i+1, np.std(standr[:, i]))\n",
    "\n",
    "\n",
    "\n"
   ]
  },
  {
   "cell_type": "markdown",
   "metadata": {},
   "source": [
    "# Exercice B\n",
    "**Pairwise distance in the plane**"
   ]
  },
  {
   "cell_type": "code",
   "execution_count": 240,
   "metadata": {},
   "outputs": [],
   "source": [
    "import numpy as np\n",
    "import matplotlib.pyplot as plt\n",
    "%matplotlib inline"
   ]
  },
  {
   "cell_type": "code",
   "execution_count": 241,
   "metadata": {},
   "outputs": [],
   "source": [
    "def pairwiseDist(ini, fin):\n",
    "\n",
    "    dist = np.zeros((ini.shape[1], fin.shape[1]))   # dist[i,j] corresponds to the dist between ini[i] and fin[j]\n",
    "    \n",
    "    for i in range(ini.shape[1]):\n",
    "        for j in range(fin.shape[1]):\n",
    "            dist[i, j] = np.sqrt((ini[0, i] - fin[0, i])**2 + (ini[1, i] - fin[1, i])**2)\n",
    "    \n",
    "    return dist\n",
    "    \n",
    "    "
   ]
  },
  {
   "cell_type": "code",
   "execution_count": 350,
   "metadata": {},
   "outputs": [
    {
     "name": "stdout",
     "output_type": "stream",
     "text": [
      "[[1.16429829 1.16429829 1.16429829 ... 1.16429829 1.16429829 1.16429829]\n",
      " [0.55514772 0.55514772 0.55514772 ... 0.55514772 0.55514772 0.55514772]\n",
      " [0.85630328 0.85630328 0.85630328 ... 0.85630328 0.85630328 0.85630328]\n",
      " ...\n",
      " [1.10256159 1.10256159 1.10256159 ... 1.10256159 1.10256159 1.10256159]\n",
      " [0.36385011 0.36385011 0.36385011 ... 0.36385011 0.36385011 0.36385011]\n",
      " [0.20872437 0.20872437 0.20872437 ... 0.20872437 0.20872437 0.20872437]]\n"
     ]
    },
    {
     "data": {
      "image/png": "[encoded data removed]",
      "text/plain": [
       "<Figure size 432x288 with 1 Axes>"
      ]
     },
     "metadata": {},
     "output_type": "display_data"
    }
   ],
   "source": [
    "nc = 100   #Number of columns        \n",
    "\n",
    "coordI = np.random.rand(2, nc)\n",
    "coordF = np.random.rand(2, nc)\n",
    "\n",
    "plt.plot(coordI[0], coordI[1], 'bo')\n",
    "plt.plot(coordF[0], coordF[1], 'ro')\n",
    "\n",
    "distMat = pairwiseDist(coordI, coordF)\n",
    "\n",
    "print(distMat)\n",
    "\n",
    "\n"
   ]
  },
  {
   "cell_type": "markdown",
   "metadata": {},
   "source": [
    "# Exercise C\n",
    "**Likelihood of data Sample**"
   ]
  },
  {
   "cell_type": "code",
   "execution_count": 250,
   "metadata": {},
   "outputs": [],
   "source": [
    "import numpy as np\n",
    "import matplotlib.pyplot as plt\n",
    "%matplotlib inline"
   ]
  },
  {
   "cell_type": "code",
   "execution_count": null,
   "metadata": {},
   "outputs": [],
   "source": []
  },
  {
   "cell_type": "code",
   "execution_count": null,
   "metadata": {},
   "outputs": [],
   "source": []
  }
 ],
 "metadata": {
  "kernelspec": {
   "display_name": "Python 3",
   "language": "python",
   "name": "python3"
  },
  "language_info": {
   "codemirror_mode": {
    "name": "ipython",
    "version": 3
   },
   "file_extension": ".py",
   "mimetype": "text/x-python",
   "name": "python",
   "nbconvert_exporter": "python",
   "pygments_lexer": "ipython3",
   "version": "3.6.5"
  }
 },
 "nbformat": 4,
 "nbformat_minor": 2
}
